{
 "cells": [
  {
   "cell_type": "code",
   "execution_count": 12,
   "id": "d937ecfe",
   "metadata": {},
   "outputs": [],
   "source": [
    "import numpy as np\n",
    "import pandas as pd\n",
    "import joblib\n",
    "import datetime\n",
    "import matplotlib.pyplot as plt\n",
    "from sklearn.ensemble import RandomForestRegressor\n",
    "from sklearn.model_selection import train_test_split\n",
    "from sklearn.metrics import mean_squared_error, mean_absolute_error, r2_score\n",
    "from hyperopt import hp, anneal, Trials, STATUS_OK\n",
    "from hyperopt.fmin import fmin\n",
    "from functools import partial"
   ]
  },
  {
   "cell_type": "code",
   "execution_count": 13,
   "id": "10e3b7eb",
   "metadata": {},
   "outputs": [],
   "source": [
    "# Load the datasets\n",
    "train_df = pd.read_excel(\"train_data.xlsx\")\n",
    "test_df = pd.read_excel(\"test_data.xlsx\")"
   ]
  },
  {
   "cell_type": "code",
   "execution_count": 14,
   "id": "e94bef9f",
   "metadata": {},
   "outputs": [],
   "source": [
    "# Define feature matrix and target variable\n",
    "X_train = train_df.drop(['P'], axis=1)\n",
    "y_train = train_df['P']\n",
    "X_test = test_df.drop(['P'], axis=1)\n",
    "y_test = test_df['P']"
   ]
  },
  {
   "cell_type": "code",
   "execution_count": 15,
   "id": "33379708",
   "metadata": {},
   "outputs": [],
   "source": [
    "def model_metrics(model, X, y):\n",
    "    \"\"\"Compute R2 score for model evaluation.\"\"\"\n",
    "    y_pred = model.predict(X)\n",
    "    return r2_score(y, y_pred)"
   ]
  },
  {
   "cell_type": "code",
   "execution_count": 16,
   "id": "8ea1cdd4",
   "metadata": {},
   "outputs": [],
   "source": [
    "\n",
    "def bayes_fmin(X_train, X_test, y_train, y_test, eval_iters=100):\n",
    "    \"\"\"Hyperparameter optimization using Bayesian search.\"\"\"\n",
    "    def objective(params):\n",
    "        model = RandomForestRegressor(\n",
    "            n_estimators=int(params['n_estimators']),\n",
    "            max_depth=int(params['max_depth']),\n",
    "            max_features=int(params['max_features']),\n",
    "            random_state=42\n",
    "        )\n",
    "        model.fit(X_train, y_train)\n",
    "        loss = -model_metrics(model, X_test, y_test)\n",
    "        return {\"loss\": loss, \"status\": STATUS_OK}\n",
    "\n",
    "    space = {\n",
    "        'n_estimators': hp.quniform('n_estimators', 10, 200, 1),\n",
    "        'max_depth': hp.quniform('max_depth', 1, 50, 1),\n",
    "        'max_features': hp.quniform('max_features', 1, 3, 1),\n",
    "    }\n",
    "    best_params = fmin(objective, space, algo=partial(anneal.suggest), max_evals=eval_iters, trials=Trials())\n",
    "    best_params = {key: int(value) for key, value in best_params.items()}\n",
    "    return best_params\n"
   ]
  },
  {
   "cell_type": "code",
   "execution_count": 17,
   "id": "b57814f4",
   "metadata": {},
   "outputs": [
    {
     "name": "stdout",
     "output_type": "stream",
     "text": [
      "100%|██████████| 500/500 [43:10<00:00,  5.18s/trial, best loss: -0.9762179586557852] \n",
      "Best Hyperparameters: {'max_depth': 20, 'max_features': 3, 'n_estimators': 166}\n"
     ]
    }
   ],
   "source": [
    "# Hyperparameter tuning\n",
    "best_params = bayes_fmin(X_train, X_test, y_train, y_test, 500)\n",
    "print(\"Best Hyperparameters:\", best_params)\n",
    "\n",
    "# Train RandomForestRegressor model\n",
    "model = RandomForestRegressor(**best_params, random_state=42)\n",
    "model.fit(X_train, y_train)\n",
    "\n",
    "y_train_pred = model.predict(X_train)\n",
    "y_test_pred = model.predict(X_test)"
   ]
  },
  {
   "cell_type": "code",
   "execution_count": 18,
   "id": "5cbb73e8",
   "metadata": {},
   "outputs": [
    {
     "name": "stdout",
     "output_type": "stream",
     "text": [
      "RMSE_Train: 10.4594\n",
      "MAE_Train: 4.9094\n",
      "R2_Train: 0.9963\n",
      "RMSE_Test: 25.1289\n",
      "MAE_Test: 12.5450\n",
      "R2_Test: 0.9762\n"
     ]
    }
   ],
   "source": [
    "# Model Evaluation\n",
    "metrics = {\n",
    "    \"RMSE_Train\": np.sqrt(mean_squared_error(y_train, y_train_pred)),\n",
    "    \"MAE_Train\": mean_absolute_error(y_train, y_train_pred),\n",
    "    \"R2_Train\": r2_score(y_train, y_train_pred),\n",
    "    \"RMSE_Test\": np.sqrt(mean_squared_error(y_test, y_test_pred)),\n",
    "    \"MAE_Test\": mean_absolute_error(y_test, y_test_pred),\n",
    "    \"R2_Test\": r2_score(y_test, y_test_pred)\n",
    "}\n",
    "\n",
    "for key, value in metrics.items():\n",
    "    print(f\"{key}: {value:.4f}\")"
   ]
  },
  {
   "cell_type": "code",
   "execution_count": null,
   "id": "9e71c4c7",
   "metadata": {},
   "outputs": [],
   "source": []
  }
 ],
 "metadata": {
  "kernelspec": {
   "display_name": "Python 3 (ipykernel)",
   "language": "python",
   "name": "python3"
  },
  "language_info": {
   "codemirror_mode": {
    "name": "ipython",
    "version": 3
   },
   "file_extension": ".py",
   "mimetype": "text/x-python",
   "name": "python",
   "nbconvert_exporter": "python",
   "pygments_lexer": "ipython3",
   "version": "3.11.5"
  }
 },
 "nbformat": 4,
 "nbformat_minor": 5
}
