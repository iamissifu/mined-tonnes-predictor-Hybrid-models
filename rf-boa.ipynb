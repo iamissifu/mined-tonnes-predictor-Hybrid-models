{
 "cells": [
  {
   "cell_type": "code",
   "execution_count": 1,
   "id": "d937ecfe",
   "metadata": {},
   "outputs": [],
   "source": [
    "import numpy as np\n",
    "import pandas as pd\n",
    "import joblib\n",
    "import datetime\n",
    "import matplotlib.pyplot as plt\n",
    "from sklearn.ensemble import RandomForestRegressor\n",
    "from sklearn.model_selection import train_test_split\n",
    "from sklearn.metrics import mean_squared_error, mean_absolute_error, r2_score\n",
    "from hyperopt import hp, anneal, Trials, STATUS_OK\n",
    "from hyperopt.fmin import fmin\n",
    "from functools import partial"
   ]
  },
  {
   "cell_type": "code",
   "execution_count": 2,
   "id": "10e3b7eb",
   "metadata": {},
   "outputs": [],
   "source": [
    "# Load the datasets\n",
    "train_df = pd.read_excel(\"train_data.xlsx\")\n",
    "test_df = pd.read_excel(\"test_data.xlsx\")"
   ]
  },
  {
   "cell_type": "code",
   "execution_count": 3,
   "id": "e94bef9f",
   "metadata": {},
   "outputs": [],
   "source": [
    "# Define feature matrix and target variable\n",
    "X_train = train_df.drop(['P'], axis=1)\n",
    "y_train = train_df['P']\n",
    "X_test = test_df.drop(['P'], axis=1)\n",
    "y_test = test_df['P']"
   ]
  },
  {
   "cell_type": "code",
   "execution_count": 4,
   "id": "33379708",
   "metadata": {},
   "outputs": [],
   "source": [
    "def model_metrics(model, X, y):\n",
    "    \"\"\"Compute R2 score for model evaluation.\"\"\"\n",
    "    y_pred = model.predict(X)\n",
    "    return r2_score(y, y_pred)"
   ]
  },
  {
   "cell_type": "code",
   "execution_count": 5,
   "id": "8ea1cdd4",
   "metadata": {},
   "outputs": [],
   "source": [
    "\n",
    "def bayes_fmin(X_train, X_test, y_train, y_test, eval_iters=100):\n",
    "    \"\"\"Hyperparameter optimization using Bayesian search.\"\"\"\n",
    "    def objective(params):\n",
    "        model = RandomForestRegressor(\n",
    "            n_estimators=int(params['n_estimators']),\n",
    "            max_depth=int(params['max_depth']),\n",
    "            max_features=int(params['max_features']),\n",
    "            random_state=42\n",
    "        )\n",
    "        model.fit(X_train, y_train)\n",
    "        loss = -model_metrics(model, X_test, y_test)\n",
    "        return {\"loss\": loss, \"status\": STATUS_OK}\n",
    "\n",
    "    space = {\n",
    "        'n_estimators': hp.quniform('n_estimators', 10, 200, 1),\n",
    "        'max_depth': hp.quniform('max_depth', 1, 50, 1),\n",
    "        'max_features': hp.quniform('max_features', 1, 3, 1),\n",
    "    }\n",
    "    best_params = fmin(objective, space, algo=partial(anneal.suggest), max_evals=eval_iters, trials=Trials())\n",
    "    best_params = {key: int(value) for key, value in best_params.items()}\n",
    "    return best_params\n"
   ]
  },
  {
   "cell_type": "code",
   "execution_count": 6,
   "id": "b57814f4",
   "metadata": {},
   "outputs": [
    {
     "name": "stdout",
     "output_type": "stream",
     "text": [
      "100%|██████████| 500/500 [33:59<00:00,  4.08s/trial, best loss: -0.9645753040140389]\n",
      "Best Hyperparameters: {'max_depth': 38, 'max_features': 2, 'n_estimators': 168}\n"
     ]
    }
   ],
   "source": [
    "# Hyperparameter tuning\n",
    "best_params = bayes_fmin(X_train, X_test, y_train, y_test, 500)\n",
    "print(\"Best Hyperparameters:\", best_params)\n",
    "\n",
    "# Train RandomForestRegressor model\n",
    "model = RandomForestRegressor(**best_params, random_state=42)\n",
    "model.fit(X_train, y_train)\n",
    "\n",
    "y_train_pred = model.predict(X_train)\n",
    "y_test_pred = model.predict(X_test)"
   ]
  },
  {
   "cell_type": "code",
   "execution_count": 8,
   "id": "5cbb73e8",
   "metadata": {},
   "outputs": [
    {
     "name": "stdout",
     "output_type": "stream",
     "text": [
      "RMSE_Train: 12.1317\n",
      "MAE_Train: 6.3428\n",
      "R2_Train: 0.9951\n",
      "RMSE_Test: 30.6692\n",
      "MAE_Test: 16.3403\n",
      "R2_Test: 0.9646\n"
     ]
    }
   ],
   "source": [
    "# Model Evaluation\n",
    "metrics = {\n",
    "    \"RMSE_Train\": np.sqrt(mean_squared_error(y_train, y_train_pred)),\n",
    "    \"MAE_Train\": mean_absolute_error(y_train, y_train_pred),\n",
    "    \"R2_Train\": r2_score(y_train, y_train_pred),\n",
    "    \"RMSE_Test\": np.sqrt(mean_squared_error(y_test, y_test_pred)),\n",
    "    \"MAE_Test\": mean_absolute_error(y_test, y_test_pred),\n",
    "    \"R2_Test\": r2_score(y_test, y_test_pred)\n",
    "}\n",
    "\n",
    "for key, value in metrics.items():\n",
    "    print(f\"{key}: {value:.4f}\")"
   ]
  },
  {
   "cell_type": "code",
   "execution_count": 11,
   "id": "9e71c4c7",
   "metadata": {},
   "outputs": [],
   "source": [
    "def compute_bic(model, X, y):\n",
    "    \"\"\"Compute Bayesian Information Criterion (BIC) for a regression model.\"\"\"\n",
    "    n = X.shape[0]\n",
    "    y_pred = model.predict(X)\n",
    "    rss = np.sum((y - y_pred) ** 2)\n",
    "\n",
    "    # Approximate number of parameters: n_estimators × max_depth\n",
    "    # This is a simplification — you can refine it later by counting all nodes\n",
    "    n_estimators = model.get_params()['n_estimators']\n",
    "    max_depth = model.get_params()['max_depth']\n",
    "    k = n_estimators * max_depth\n",
    "\n",
    "    bic = n * np.log(rss / n) + k * np.log(n)\n",
    "    return bic\n"
   ]
  },
  {
   "cell_type": "code",
   "execution_count": 12,
   "id": "f75b8816",
   "metadata": {},
   "outputs": [
    {
     "name": "stdout",
     "output_type": "stream",
     "text": [
      "BIC_Train: 66789.00\n",
      "BIC_Test: 55013.91\n"
     ]
    }
   ],
   "source": [
    "bic_train = compute_bic(model, X_train, y_train)\n",
    "bic_test = compute_bic(model, X_test, y_test)\n",
    "\n",
    "print(f\"BIC_Train: {bic_train:.2f}\")\n",
    "print(f\"BIC_Test: {bic_test:.2f}\")\n"
   ]
  }
 ],
 "metadata": {
  "kernelspec": {
   "display_name": "Python 3 (ipykernel)",
   "language": "python",
   "name": "python3"
  },
  "language_info": {
   "codemirror_mode": {
    "name": "ipython",
    "version": 3
   },
   "file_extension": ".py",
   "mimetype": "text/x-python",
   "name": "python",
   "nbconvert_exporter": "python",
   "pygments_lexer": "ipython3",
   "version": "3.11.5"
  }
 },
 "nbformat": 4,
 "nbformat_minor": 5
}
