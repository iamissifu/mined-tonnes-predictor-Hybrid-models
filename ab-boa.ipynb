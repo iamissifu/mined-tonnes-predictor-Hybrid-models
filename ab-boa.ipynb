{
 "cells": [
  {
   "cell_type": "code",
   "execution_count": 1,
   "id": "476d7d98",
   "metadata": {},
   "outputs": [],
   "source": [
    "import numpy as np\n",
    "import pandas as pd\n",
    "import joblib\n",
    "import datetime\n",
    "import matplotlib.pyplot as plt\n",
    "from sklearn.ensemble import AdaBoostRegressor\n",
    "from sklearn.model_selection import train_test_split\n",
    "from sklearn.metrics import mean_squared_error, mean_absolute_error, r2_score\n",
    "from hyperopt import hp, anneal, Trials, STATUS_OK\n",
    "from hyperopt.fmin import fmin\n",
    "from functools import partial\n"
   ]
  },
  {
   "cell_type": "code",
   "execution_count": 2,
   "id": "86a36527",
   "metadata": {},
   "outputs": [],
   "source": [
    "# Load the datasets\n",
    "train_df = pd.read_excel(\"train_data.xlsx\")\n",
    "test_df = pd.read_excel(\"test_data.xlsx\")"
   ]
  },
  {
   "cell_type": "code",
   "execution_count": 3,
   "id": "f2d9ebec",
   "metadata": {},
   "outputs": [],
   "source": [
    "# Define feature matrix and target variable\n",
    "X_train = train_df.drop(['P'], axis=1)\n",
    "y_train = train_df['P']\n",
    "X_test = test_df.drop(['P'], axis=1)\n",
    "y_test = test_df['P']"
   ]
  },
  {
   "cell_type": "code",
   "execution_count": 10,
   "id": "a33731fa",
   "metadata": {},
   "outputs": [],
   "source": [
    "def model_metrics(model, X, y):\n",
    "    \"\"\"Compute RMSE for model evaluation.\"\"\"\n",
    "    y_pred = model.predict(X)\n",
    "    return np.sqrt(mean_squared_error(y, y_pred))\n",
    "\n",
    "def bayes_fmin(X_train, X_test, y_train, y_test, eval_iters=100):\n",
    "    \"\"\"Hyperparameter optimization using Bayesian search.\"\"\"\n",
    "    def objective(params):\n",
    "        model = AdaBoostRegressor(\n",
    "            learning_rate=float(params['learning_rate']),\n",
    "            n_estimators=int(params['n_estimators']),\n",
    "            random_state=42\n",
    "        )\n",
    "        model.fit(X_train, y_train)\n",
    "        loss = model_metrics(model, X_test, y_test)\n",
    "        return {\"loss\": loss, \"status\": STATUS_OK}\n",
    "\n",
    "    space = {\n",
    "        'n_estimators': hp.quniform('n_estimators', 1, 200, 1),\n",
    "        'learning_rate': hp.quniform('learning_rate', 0.001, 1, 0.01),\n",
    "    }\n",
    "    best_params = fmin(objective, space, algo=partial(anneal.suggest), max_evals=eval_iters, trials=Trials())\n",
    "    best_params[\"n_estimators\"] = int(best_params[\"n_estimators\"])\n",
    "    best_params[\"learning_rate\"] = float(best_params[\"learning_rate\"])\n",
    "    return best_params"
   ]
  },
  {
   "cell_type": "code",
   "execution_count": 11,
   "id": "0718f859",
   "metadata": {},
   "outputs": [
    {
     "name": "stdout",
     "output_type": "stream",
     "text": [
      "100%|██████████| 500/500 [01:48<00:00,  4.61trial/s, best loss: 53.88789680494569]\n",
      "Best Hyperparameters: {'learning_rate': 0.49, 'n_estimators': 19}\n"
     ]
    }
   ],
   "source": [
    "# Hyperparameter tuning\n",
    "best_params = bayes_fmin(X_train, X_test, y_train, y_test, 500)\n",
    "print(\"Best Hyperparameters:\", best_params)"
   ]
  },
  {
   "cell_type": "code",
   "execution_count": 14,
   "id": "76419e72",
   "metadata": {},
   "outputs": [
    {
     "name": "stdout",
     "output_type": "stream",
     "text": [
      "RMSE_Train: 56.9043\n",
      "MAE_Train: 40.4131\n",
      "R2_Train: 0.8917\n",
      "RMSE_Test: 53.8879\n",
      "MAE_Test: 39.2130\n",
      "R2_Test: 0.8906\n"
     ]
    }
   ],
   "source": [
    "# Train AdaBoost model\n",
    "model = AdaBoostRegressor(**best_params, random_state=42)\n",
    "model.fit(X_train, y_train)\n",
    "\n",
    "y_train_pred = model.predict(X_train)\n",
    "y_test_pred = model.predict(X_test)\n",
    "\n",
    "# Model Evaluation\n",
    "metrics = {\n",
    "    \"RMSE_Train\": np.sqrt(mean_squared_error(y_train, y_train_pred)),\n",
    "    \"MAE_Train\": mean_absolute_error(y_train, y_train_pred),\n",
    "    \"R2_Train\": r2_score(y_train, y_train_pred),\n",
    "    \"RMSE_Test\": np.sqrt(mean_squared_error(y_test, y_test_pred)),\n",
    "    \"MAE_Test\": mean_absolute_error(y_test, y_test_pred),\n",
    "    \"R2_Test\": r2_score(y_test, y_test_pred)\n",
    "}\n",
    "\n",
    "for key, value in metrics.items():\n",
    "    print(f\"{key}: {value:.4f}\")"
   ]
  },
  {
   "cell_type": "code",
   "execution_count": null,
   "id": "2a81f15f",
   "metadata": {},
   "outputs": [],
   "source": []
  }
 ],
 "metadata": {
  "kernelspec": {
   "display_name": "Python 3 (ipykernel)",
   "language": "python",
   "name": "python3"
  },
  "language_info": {
   "codemirror_mode": {
    "name": "ipython",
    "version": 3
   },
   "file_extension": ".py",
   "mimetype": "text/x-python",
   "name": "python",
   "nbconvert_exporter": "python",
   "pygments_lexer": "ipython3",
   "version": "3.11.5"
  }
 },
 "nbformat": 4,
 "nbformat_minor": 5
}
