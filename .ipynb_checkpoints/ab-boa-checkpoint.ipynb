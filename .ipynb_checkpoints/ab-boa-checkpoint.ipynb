{
 "cells": [
  {
   "cell_type": "code",
   "execution_count": 2,
   "id": "476d7d98",
   "metadata": {},
   "outputs": [],
   "source": [
    "import numpy as np\n",
    "import pandas as pd\n",
    "import joblib\n",
    "import datetime\n",
    "import matplotlib.pyplot as plt\n",
    "from sklearn.ensemble import AdaBoostRegressor\n",
    "from sklearn.model_selection import train_test_split\n",
    "from sklearn.metrics import mean_squared_error, mean_absolute_error, r2_score\n",
    "from hyperopt import hp, anneal, Trials, STATUS_OK\n",
    "from hyperopt.fmin import fmin\n",
    "from functools import partial\n"
   ]
  },
  {
   "cell_type": "code",
   "execution_count": 3,
   "id": "86a36527",
   "metadata": {},
   "outputs": [],
   "source": [
    "# Load the datasets\n",
    "train_df = pd.read_excel(\"train_data.xlsx\")\n",
    "test_df = pd.read_excel(\"test_data.xlsx\")"
   ]
  },
  {
   "cell_type": "code",
   "execution_count": 4,
   "id": "f2d9ebec",
   "metadata": {},
   "outputs": [],
   "source": [
    "# Define feature matrix and target variable\n",
    "X_train = train_df.drop(['P'], axis=1)\n",
    "y_train = train_df['P']\n",
    "X_test = test_df.drop(['P'], axis=1)\n",
    "y_test = test_df['P']"
   ]
  },
  {
   "cell_type": "code",
   "execution_count": 6,
   "id": "a33731fa",
   "metadata": {},
   "outputs": [],
   "source": [
    "def model_metrics(model, X, y):\n",
    "    \"\"\"Compute RMSE for model evaluation.\"\"\"\n",
    "    y_pred = model.predict(X)\n",
    "    return np.sqrt(mean_squared_error(y, y_pred))\n",
    "\n",
    "def bayes_fmin(X_train, X_test, y_train, y_test, eval_iters=100):\n",
    "    \"\"\"Hyperparameter optimization using Bayesian search.\"\"\"\n",
    "    def objective(params):\n",
    "        model = AdaBoostRegressor(\n",
    "            learning_rate=float(params['learning_rate']),\n",
    "            n_estimators=int(params['n_estimators']),\n",
    "            random_state=42\n",
    "        )\n",
    "        model.fit(X_train, y_train)\n",
    "        loss = model_metrics(model, X_test, y_test)\n",
    "        return {\"loss\": loss, \"status\": STATUS_OK}\n",
    "\n",
    "    space = {\n",
    "        'n_estimators': hp.quniform('n_estimators', 1, 200, 1),\n",
    "        'learning_rate': hp.quniform('learning_rate', 0.001, 1, 0.01),\n",
    "    }\n",
    "    best_params = fmin(objective, space, algo=partial(anneal.suggest), max_evals=eval_iters, trials=Trials())\n",
    "    best_params[\"n_estimators\"] = int(best_params[\"n_estimators\"])\n",
    "    best_params[\"learning_rate\"] = float(best_params[\"learning_rate\"])\n",
    "    return best_params"
   ]
  },
  {
   "cell_type": "code",
   "execution_count": 7,
   "id": "0718f859",
   "metadata": {},
   "outputs": [
    {
     "name": "stdout",
     "output_type": "stream",
     "text": [
      "100%|██████████| 500/500 [04:36<00:00,  1.81trial/s, best loss: 55.34572303807613]\n",
      "Best Hyperparameters: {'learning_rate': 0.24, 'n_estimators': 57}\n"
     ]
    }
   ],
   "source": [
    "# Hyperparameter tuning\n",
    "best_params = bayes_fmin(X_train, X_test, y_train, y_test, 500)\n",
    "print(\"Best Hyperparameters:\", best_params)"
   ]
  },
  {
   "cell_type": "code",
   "execution_count": 8,
   "id": "76419e72",
   "metadata": {},
   "outputs": [
    {
     "name": "stdout",
     "output_type": "stream",
     "text": [
      "RMSE_Train: 57.3616\n",
      "MAE_Train: 41.2269\n",
      "R2_Train: 0.8899\n",
      "BIC_Train: 25556.2419\n",
      "RMSE_Test: 55.3457\n",
      "MAE_Test: 40.4841\n",
      "R2_Test: 0.8846\n",
      "BIC_Test: 11078.1015\n"
     ]
    }
   ],
   "source": [
    "# Train AdaBoost model\n",
    "model = AdaBoostRegressor(**best_params, random_state=42)\n",
    "model.fit(X_train, y_train)\n",
    "\n",
    "y_train_pred = model.predict(X_train)\n",
    "y_test_pred = model.predict(X_test)\n",
    "\n",
    "# Number of model parameters (approximate with n_estimators)\n",
    "k = best_params['n_estimators']\n",
    "\n",
    "# Number of observations\n",
    "n_train = len(y_train)\n",
    "n_test = len(y_test)\n",
    "\n",
    "# Residual Sum of Squares\n",
    "rss_train = np.sum((y_train - y_train_pred) ** 2)\n",
    "rss_test = np.sum((y_test - y_test_pred) ** 2)\n",
    "\n",
    "# BIC Calculation\n",
    "bic_train = n_train * np.log(rss_train / n_train) + k * np.log(n_train)\n",
    "bic_test = n_test * np.log(rss_test / n_test) + k * np.log(n_test)\n",
    "\n",
    "# Model Evaluation\n",
    "metrics = {\n",
    "    \"RMSE_Train\": np.sqrt(mean_squared_error(y_train, y_train_pred)),\n",
    "    \"MAE_Train\": mean_absolute_error(y_train, y_train_pred),\n",
    "    \"R2_Train\": r2_score(y_train, y_train_pred),\n",
    "    \"BIC_Train\": bic_train,\n",
    "    \"RMSE_Test\": np.sqrt(mean_squared_error(y_test, y_test_pred)),\n",
    "    \"MAE_Test\": mean_absolute_error(y_test, y_test_pred),\n",
    "    \"R2_Test\": r2_score(y_test, y_test_pred),\n",
    "    \"BIC_Test\": bic_test\n",
    "}\n",
    "\n",
    "for key, value in metrics.items():\n",
    "    print(f\"{key}: {value:.4f}\")\n"
   ]
  },
  {
   "cell_type": "code",
   "execution_count": null,
   "id": "2a81f15f",
   "metadata": {},
   "outputs": [],
   "source": []
  }
 ],
 "metadata": {
  "kernelspec": {
   "display_name": "Python 3 (ipykernel)",
   "language": "python",
   "name": "python3"
  },
  "language_info": {
   "codemirror_mode": {
    "name": "ipython",
    "version": 3
   },
   "file_extension": ".py",
   "mimetype": "text/x-python",
   "name": "python",
   "nbconvert_exporter": "python",
   "pygments_lexer": "ipython3",
   "version": "3.11.5"
  }
 },
 "nbformat": 4,
 "nbformat_minor": 5
}
