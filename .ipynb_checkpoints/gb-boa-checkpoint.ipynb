{
 "cells": [
  {
   "cell_type": "code",
   "execution_count": 1,
   "id": "bf0b3a86",
   "metadata": {},
   "outputs": [],
   "source": [
    "import numpy as np\n",
    "import pandas as pd\n",
    "import joblib\n",
    "import datetime\n",
    "import matplotlib.pyplot as plt\n",
    "from hyperopt import hp, Trials, STATUS_OK, fmin, anneal\n",
    "from functools import partial\n",
    "from sklearn.metrics import mean_squared_error, mean_absolute_error, r2_score\n",
    "from sklearn.ensemble import GradientBoostingRegressor\n",
    "from sklearn.model_selection import train_test_split"
   ]
  },
  {
   "cell_type": "code",
   "execution_count": 2,
   "id": "9e661931",
   "metadata": {},
   "outputs": [],
   "source": [
    "# Load the datasets\n",
    "train_df = pd.read_excel(\"train_data.xlsx\")\n",
    "test_df = pd.read_excel(\"test_data.xlsx\")"
   ]
  },
  {
   "cell_type": "code",
   "execution_count": 3,
   "id": "10566dba",
   "metadata": {},
   "outputs": [],
   "source": [
    "# Define feature matrix and target variable\n",
    "X_train = train_df.drop(['P'], axis=1)\n",
    "y_train = train_df['P']\n",
    "X_test = test_df.drop(['P'], axis=1)\n",
    "y_test = test_df['P']"
   ]
  },
  {
   "cell_type": "code",
   "execution_count": 4,
   "id": "619bbcf5",
   "metadata": {},
   "outputs": [],
   "source": [
    "# Define Model Evaluation Metric\n",
    "def model_metrics(model, X, y):\n",
    "    \"\"\"Evaluate model performance using RMSE.\"\"\"\n",
    "    y_pred = model.predict(X)\n",
    "    return np.sqrt(mean_squared_error(y, y_pred))"
   ]
  },
  {
   "cell_type": "code",
   "execution_count": 5,
   "id": "f85be575",
   "metadata": {},
   "outputs": [],
   "source": [
    "\n",
    "# Bayesian Optimization Function\n",
    "def bayes_fmin(X_train, X_test, y_train, y_test, eval_iters=100):\n",
    "    \"\"\"Optimize hyperparameters using Bayesian optimization.\"\"\"\n",
    "    \n",
    "    def objective(params):\n",
    "        model = GradientBoostingRegressor(\n",
    "            learning_rate=float(params['learning_rate']),\n",
    "            n_estimators=int(params['n_estimators']),\n",
    "            max_depth=int(params['max_depth']),\n",
    "            max_features=int(params['max_features']),\n",
    "            random_state=42\n",
    "        )\n",
    "        model.fit(X_train, y_train)\n",
    "        loss = model_metrics(model, X_test, y_test)\n",
    "        \n",
    "        with open('./GBR-Bayesian-fitness-RMSE.txt', 'a+') as f:\n",
    "            f.write(f\"{loss}\\n\")\n",
    "        \n",
    "        return {\"loss\": loss, \"status\": STATUS_OK}\n",
    "    \n",
    "    space = {\n",
    "        'n_estimators': hp.quniform('n_estimators', 1, 200, 1),\n",
    "        'max_depth': hp.quniform('max_depth', 1, 50, 1),\n",
    "        'learning_rate': hp.quniform('learning_rate', 0.0001, 1, 0.01),\n",
    "        'max_features': hp.quniform('max_features', 1, 11, 1)\n",
    "    }\n",
    "    \n",
    "    best_params = fmin(\n",
    "        fn=objective,\n",
    "        space=space,\n",
    "        algo=partial(anneal.suggest),\n",
    "        max_evals=eval_iters,\n",
    "        trials=Trials(),\n",
    "        return_argmin=True\n",
    "    )\n",
    "    \n",
    "    return {k: int(v) if k != 'learning_rate' else float(v) for k, v in best_params.items()}"
   ]
  },
  {
   "cell_type": "code",
   "execution_count": 6,
   "id": "b3c2e050",
   "metadata": {},
   "outputs": [
    {
     "name": "stdout",
     "output_type": "stream",
     "text": [
      "100%|██████████| 500/500 [15:20<00:00,  1.84s/trial, best loss: 16.496310280593306]\n",
      "Optimized Parameters: {'learning_rate': 0.1, 'max_depth': 6, 'max_features': 6, 'n_estimators': 99}\n",
      "INFO: Train RMSE = 3.28\n",
      "INFO: Train MAE = 2.33\n",
      "INFO: Train R2 = 1.00\n",
      "INFO: Test RMSE = 16.50\n",
      "INFO: Test MAE = 7.13\n",
      "INFO: Test R2 = 0.99\n"
     ]
    }
   ],
   "source": [
    "# Optimize Parameters\n",
    "best_params = bayes_fmin(X_train, X_test, y_train, y_test, 500)\n",
    "print(\"Optimized Parameters:\", best_params)\n",
    "\n",
    "# Train Final Model\n",
    "gbr_reg = GradientBoostingRegressor(**best_params, random_state=42)\n",
    "gbr_reg.fit(X_train, y_train)\n",
    "y_train_pred, y_test_pred = gbr_reg.predict(X_train), gbr_reg.predict(X_test)\n",
    "\n",
    "# Evaluate Model\n",
    "metrics = {\n",
    "    \"Train RMSE\": np.sqrt(mean_squared_error(y_train, y_train_pred)),\n",
    "    \"Train MAE\": mean_absolute_error(y_train, y_train_pred),\n",
    "    \"Train R2\": r2_score(y_train, y_train_pred),\n",
    "    \"Test RMSE\": np.sqrt(mean_squared_error(y_test, y_test_pred)),\n",
    "    \"Test MAE\": mean_absolute_error(y_test, y_test_pred),\n",
    "    \"Test R2\": r2_score(y_test, y_test_pred)\n",
    "}\n",
    "\n",
    "for metric, value in metrics.items():\n",
    "    print(f\"INFO: {metric} = {value:.2f}\")"
   ]
  },
  {
   "cell_type": "code",
   "execution_count": null,
   "id": "9268f47d",
   "metadata": {},
   "outputs": [],
   "source": []
  }
 ],
 "metadata": {
  "kernelspec": {
   "display_name": "Python 3 (ipykernel)",
   "language": "python",
   "name": "python3"
  },
  "language_info": {
   "codemirror_mode": {
    "name": "ipython",
    "version": 3
   },
   "file_extension": ".py",
   "mimetype": "text/x-python",
   "name": "python",
   "nbconvert_exporter": "python",
   "pygments_lexer": "ipython3",
   "version": "3.11.5"
  }
 },
 "nbformat": 4,
 "nbformat_minor": 5
}
